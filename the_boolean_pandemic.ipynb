{
 "cells": [
  {
   "cell_type": "code",
   "execution_count": 1,
   "metadata": {},
   "outputs": [],
   "source": [
    "import matplotlib.pyplot as plt\n",
    "import os\n",
    "import itertools\n",
    "import numpy as np\n",
    "import pandas as pd\n",
    "import matplotlib.pyplot as plt\n",
    "\n",
    "from sklearn.impute import KNNImputer\n",
    "from sklearn.preprocessing import OrdinalEncoder\n",
    "from sklearn.metrics import f1_score\n",
    "from sklearn.naive_bayes import MultinomialNB, CategoricalNB\n",
    "from sklearn.model_selection import StratifiedShuffleSplit"
   ]
  },
  {
   "cell_type": "code",
   "execution_count": 27,
   "metadata": {},
   "outputs": [],
   "source": [
    "train = pd.read_csv(\"01. Data/train.csv\")\n",
    "test = pd.read_csv(\"01. Data/test.csv\")"
   ]
  },
  {
   "cell_type": "code",
   "execution_count": 28,
   "metadata": {},
   "outputs": [],
   "source": [
    "oe_label = OrdinalEncoder()\n",
    "train[\"Churn_risk\"] = oe_label.fit_transform(np.array(train[\"Churn_risk\"]).reshape(-1, 1))\n",
    "\n",
    "oe = OrdinalEncoder()\n",
    "train[\"Department\"] = oe.fit_transform(np.array(train[\"Department\"]).reshape(-1, 1))\n",
    "test[\"Department\"] = oe.transform(np.array(test[\"Department\"]).reshape(-1, 1))\n",
    "train[\"Gender\"] = oe.fit_transform(np.array(train[\"Gender\"]).reshape(-1, 1))\n",
    "test[\"Gender\"] = oe.transform(np.array(test[\"Gender\"]).reshape(-1, 1))\n",
    "\n",
    "marital_columns = list(train[\"Marital_status\"].unique())\n",
    "train = pd.concat([train.drop(\"Marital_status\", axis=1), pd.get_dummies(train[\"Marital_status\"])], axis=1)\n",
    "test = pd.concat([test.drop(\"Marital_status\", axis=1), pd.get_dummies(test[\"Marital_status\"])], axis=1)"
   ]
  },
  {
   "cell_type": "code",
   "execution_count": 29,
   "metadata": {},
   "outputs": [],
   "source": [
    "#Train data\n",
    "\n",
    "X = train.drop([\"Employee_ID\", \"Churn_risk\"], axis=1)\n",
    "y = train[\"Churn_risk\"]"
   ]
  },
  {
   "cell_type": "code",
   "execution_count": 30,
   "metadata": {},
   "outputs": [],
   "source": [
    "#Categorical variables\n",
    "\n",
    "categorical_columns = [\"Department\", \"Gender\"]\n",
    "categorical_columns.extend(marital_columns)\n",
    "\n",
    "other_columns = ['Age', 'Days_off', 'Rotations', 'Satis_leader', 'Satis_team', \n",
    "                 'Emails', 'Tenure', 'Bonus', 'Distance', 'Kids', 'Overtime']\n",
    "\n",
    "all_columns = other_columns\n",
    "all_columns.extend(categorical_columns)"
   ]
  },
  {
   "cell_type": "code",
   "execution_count": 31,
   "metadata": {},
   "outputs": [],
   "source": [
    "# Missing Values\n",
    "\n",
    "imputer = KNNImputer()\n",
    "X = imputer.fit_transform(X)\n",
    "X = pd.DataFrame(X, columns=all_columns)\n",
    "\n",
    "test_ids = test[\"Employee_ID\"]\n",
    "test = pd.DataFrame(imputer.transform(test.drop(\"Employee_ID\", axis=1)), columns=all_columns)\n",
    "test += test.min().min()"
   ]
  },
  {
   "cell_type": "code",
   "execution_count": 32,
   "metadata": {},
   "outputs": [],
   "source": [
    "#Scaling\n",
    "\n",
    "X = pd.DataFrame(X, columns=all_columns)\n",
    "X += abs(X.min().min())"
   ]
  },
  {
   "cell_type": "code",
   "execution_count": 33,
   "metadata": {},
   "outputs": [],
   "source": [
    "# Naive Bayes Model\n",
    "\n",
    "clf1 = MultinomialNB()\n",
    "clf2 = CategoricalNB()"
   ]
  },
  {
   "cell_type": "code",
   "execution_count": 41,
   "metadata": {
    "scrolled": false
   },
   "outputs": [
    {
     "name": "stdout",
     "output_type": "stream",
     "text": [
      "# of Folds: 600\n",
      "mean_outcome: 0.668775641025641\n"
     ]
    }
   ],
   "source": [
    "def kfold(clf1, clf2):\n",
    "    \n",
    "    nfolds = 600\n",
    "    print(\"# of Folds:\", nfolds)\n",
    "        \n",
    "    strat = StratifiedShuffleSplit(n_splits=nfolds, test_size=0.25, random_state=1421)\n",
    "    outcomes = []\n",
    "\n",
    "    for train_indices, test_indices in strat.split(X, y):\n",
    "        X_train1, X_test1 = X[other_columns].values[train_indices], X[other_columns].values[test_indices]\n",
    "        X_train2, X_test2 = X[categorical_columns].values[train_indices], X[categorical_columns].values[test_indices]\n",
    "        y_train, y_test = y.values[train_indices], y.values[test_indices]\n",
    "\n",
    "        clf1.fit(X_train1, y_train)\n",
    "        clf2.fit(X_train2, y_train)        \n",
    "\n",
    "        predictions1 = clf1.predict_proba(X_test1)\n",
    "        predictions2 = clf2.predict_proba(X_test2)\n",
    "        predictions = ((predictions1 + predictions2)/2).argmax(axis=1)\n",
    "\n",
    "        f1 = f1_score(y_test, predictions, average=\"micro\")\n",
    "        outcomes.append(f1)\n",
    "\n",
    "    mean_outcome = np.mean(outcomes)\n",
    "    return mean_outcome\n",
    "\n",
    "mean_outcome = kfold(clf1, clf2)\n",
    "print(\"mean_outcome:\", mean_outcome)"
   ]
  },
  {
   "cell_type": "code",
   "execution_count": 43,
   "metadata": {},
   "outputs": [],
   "source": [
    "clf1.fit(X[other_columns], y);\n",
    "clf2.fit(X[categorical_columns], y);"
   ]
  },
  {
   "cell_type": "code",
   "execution_count": 58,
   "metadata": {},
   "outputs": [],
   "source": [
    "#predictions\n",
    "\n",
    "preds1 = clf1.predict_proba(pd.DataFrame(test, columns=all_columns)[other_columns])\n",
    "preds2 = clf2.predict_proba(pd.DataFrame(test, columns=all_columns)[categorical_columns])\n",
    "preds = ((preds1 + preds2)/2).argmax(axis=1)\n",
    "preds = oe_label.inverse_transform(preds.reshape(-1,1)).reshape(-1,)"
   ]
  },
  {
   "cell_type": "code",
   "execution_count": 63,
   "metadata": {
    "scrolled": false
   },
   "outputs": [
    {
     "data": {
      "text/html": [
       "<div>\n",
       "<style scoped>\n",
       "    .dataframe tbody tr th:only-of-type {\n",
       "        vertical-align: middle;\n",
       "    }\n",
       "\n",
       "    .dataframe tbody tr th {\n",
       "        vertical-align: top;\n",
       "    }\n",
       "\n",
       "    .dataframe thead th {\n",
       "        text-align: right;\n",
       "    }\n",
       "</style>\n",
       "<table border=\"1\" class=\"dataframe\">\n",
       "  <thead>\n",
       "    <tr style=\"text-align: right;\">\n",
       "      <th></th>\n",
       "      <th>Employee_ID</th>\n",
       "      <th>Churn_risk</th>\n",
       "    </tr>\n",
       "  </thead>\n",
       "  <tbody>\n",
       "    <tr>\n",
       "      <th>0</th>\n",
       "      <td>1005201</td>\n",
       "      <td>low</td>\n",
       "    </tr>\n",
       "    <tr>\n",
       "      <th>1</th>\n",
       "      <td>1005202</td>\n",
       "      <td>medium</td>\n",
       "    </tr>\n",
       "    <tr>\n",
       "      <th>2</th>\n",
       "      <td>1005203</td>\n",
       "      <td>medium</td>\n",
       "    </tr>\n",
       "    <tr>\n",
       "      <th>3</th>\n",
       "      <td>1005204</td>\n",
       "      <td>medium</td>\n",
       "    </tr>\n",
       "    <tr>\n",
       "      <th>4</th>\n",
       "      <td>1005205</td>\n",
       "      <td>medium</td>\n",
       "    </tr>\n",
       "  </tbody>\n",
       "</table>\n",
       "</div>"
      ],
      "text/plain": [
       "   Employee_ID Churn_risk\n",
       "0      1005201        low\n",
       "1      1005202     medium\n",
       "2      1005203     medium\n",
       "3      1005204     medium\n",
       "4      1005205     medium"
      ]
     },
     "execution_count": 63,
     "metadata": {},
     "output_type": "execute_result"
    }
   ],
   "source": [
    "predictions = pd.DataFrame({\"Employee_ID\": test_ids, \"Churn_risk\": preds})\n",
    "predictions.to_csv('02. Predictions/m20190450_version2.csv', index = False)\n",
    "predictions.head()"
   ]
  }
 ],
 "metadata": {
  "kernelspec": {
   "display_name": "Python (machine_learning)",
   "language": "python",
   "name": "machine_learning"
  },
  "language_info": {
   "codemirror_mode": {
    "name": "ipython",
    "version": 3
   },
   "file_extension": ".py",
   "mimetype": "text/x-python",
   "name": "python",
   "nbconvert_exporter": "python",
   "pygments_lexer": "ipython3",
   "version": "3.8.2"
  }
 },
 "nbformat": 4,
 "nbformat_minor": 2
}
