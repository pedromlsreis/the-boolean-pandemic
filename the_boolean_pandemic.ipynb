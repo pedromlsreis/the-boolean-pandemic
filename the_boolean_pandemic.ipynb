{
 "cells": [
  {
   "cell_type": "code",
   "execution_count": 1,
   "metadata": {},
   "outputs": [],
   "source": [
    "import os\n",
    "import numpy as np\n",
    "import pandas as pd\n",
    "import pandas_profiling\n",
    "from datetime import datetime\n",
    "# from sklearn.impute import KNNImputer\n",
    "from tqdm.notebook import tqdm\n",
    "from sklearn.metrics import make_scorer, accuracy_score\n",
    "from sklearn.ensemble import RandomForestClassifier\n",
    "from sklearn.model_selection import StratifiedShuffleSplit, GridSearchCV"
   ]
  },
  {
   "cell_type": "markdown",
   "metadata": {},
   "source": [
    "**Ordinal Categoricals:**\n",
    " - _Severity_\n",
    " - \n",
    "\n",
    "**Nominal Categoricals:**\n",
    " - _Medical_Tent_\n",
    " - _Title_\n",
    " - "
   ]
  },
  {
   "cell_type": "code",
   "execution_count": 2,
   "metadata": {},
   "outputs": [],
   "source": [
    "#------------ CONFIG ------------#\n",
    "eda     = False\n",
    "OHE_all = True\n",
    "gridsearch = False\n",
    "nan_bfill = False\n",
    "#--------------------------------#"
   ]
  },
  {
   "cell_type": "code",
   "execution_count": 3,
   "metadata": {},
   "outputs": [],
   "source": [
    "input_folder = \"./data\"\n",
    "output_folder = \"./output\"\n",
    "profiles_folder = \"./profiles\"\n",
    "seed = 2020\n",
    "\n",
    "train = pd.read_csv(f\"{input_folder}/train.csv\")\n",
    "test = pd.read_csv(f\"{input_folder}/test.csv\")"
   ]
  },
  {
   "cell_type": "code",
   "execution_count": 4,
   "metadata": {},
   "outputs": [],
   "source": [
    "if eda:\n",
    "    trainprofile = train.profile_report(title='Train Profiling Report', plot={'histogram': {'bins': 8}}, progress_bar=False)\n",
    "    trainprofile.to_file(output_file=f\"{profiles_folder}/train_profiling.html\")\n",
    "    testprofile = test.profile_report(title='Test Profiling Report', plot={'histogram': {'bins': 8}}, progress_bar=False)\n",
    "    testprofile.to_file(output_file=f\"{profiles_folder}/test_profiling.html\")"
   ]
  },
  {
   "cell_type": "code",
   "execution_count": 5,
   "metadata": {},
   "outputs": [],
   "source": [
    "# new features\n",
    "\n",
    "train[\"Title\"] = pd.DataFrame(train[\"Name\"].str.split().tolist(),\n",
    "                              index=train.index,\n",
    "                              columns=[\"Title\", \"First_name\", \"Last_name\"]\n",
    "                             )[\"Title\"]\n",
    "train.drop([\"Name\"], axis=1, inplace=True)\n",
    "\n",
    "test[\"Title\"] = pd.DataFrame(test[\"Name\"].str.split().tolist(),\n",
    "                             index=test.index,\n",
    "                             columns=[\"Title\", \"First_name\", \"Last_name\"]\n",
    "                            )[\"Title\"]\n",
    "test.drop([\"Name\"], axis=1, inplace=True)"
   ]
  },
  {
   "cell_type": "code",
   "execution_count": 6,
   "metadata": {},
   "outputs": [],
   "source": [
    "target = \"Deceased\"\n",
    "id_col = \"Patient_ID\"\n",
    "train_ids = train[id_col]\n",
    "test_ids = test[id_col]"
   ]
  },
  {
   "cell_type": "code",
   "execution_count": 7,
   "metadata": {},
   "outputs": [],
   "source": [
    "# defining categoricals\n",
    "\n",
    "ordinal_cat_cols = [\"Severity\"]\n",
    "nominal_cat_cols = [\"Title\", \"City\", \"Medical_Tent\"]\n",
    "\n",
    "if OHE_all:\n",
    "    nominal_cat_cols.extend(ordinal_cat_cols)"
   ]
  },
  {
   "cell_type": "markdown",
   "metadata": {},
   "source": [
    "TODO:\n",
    "\n",
    " - Relacionar Family_Case_ID do treino com a do teste\n",
    " - "
   ]
  },
  {
   "cell_type": "code",
   "execution_count": 8,
   "metadata": {},
   "outputs": [],
   "source": [
    "# ordinal categorical\n"
   ]
  },
  {
   "cell_type": "code",
   "execution_count": 9,
   "metadata": {
    "scrolled": false
   },
   "outputs": [],
   "source": [
    "# nominal categorical\n",
    "\n",
    "train[\"In_Tent\"] = train[\"Medical_Tent\"].isna()\n",
    "test[\"In_Tent\"] = test[\"Medical_Tent\"].isna()\n",
    "\n",
    "train[\"is_train\"] = 1\n",
    "test[\"is_train\"] = 0\n",
    "\n",
    "dfcombined = pd.concat([train, test], axis=0)\n",
    "\n",
    "for col in nominal_cat_cols:\n",
    "    dfcombined = pd.concat([\n",
    "        dfcombined.drop(col, axis=1),\n",
    "        pd.get_dummies(dfcombined[col], prefix=col)\n",
    "    ], axis=1)\n",
    "\n",
    "train = dfcombined[dfcombined[\"is_train\"]==1].drop(\"is_train\", axis=1)\n",
    "test = dfcombined[dfcombined[\"is_train\"]==0].drop([\"Deceased\", \"is_train\"], axis=1)"
   ]
  },
  {
   "cell_type": "code",
   "execution_count": 10,
   "metadata": {},
   "outputs": [],
   "source": [
    "X, y = train.drop([target], axis=1), train[target]"
   ]
  },
  {
   "cell_type": "code",
   "execution_count": 11,
   "metadata": {},
   "outputs": [],
   "source": [
    "X.drop([\"Patient_ID\"], axis=1, inplace=True)"
   ]
  },
  {
   "cell_type": "code",
   "execution_count": 12,
   "metadata": {},
   "outputs": [],
   "source": [
    "# imputer = KNNImputer()\n",
    "# train = pd.DataFrame(imputer.fit_transform(train.drop([target, \"Patient_ID\", \"Family_Case_ID\"], axis=1)),\n",
    "#                      columns=list(set(Xcols)-set([target, \"Patient_ID\", \"Family_Case_ID\"])))\n",
    "# test = pd.DataFrame(imputer.transform(test.drop([\"Patient_ID\", \"Family_Case_ID\"], axis=1)),\n",
    "#                     columns=list(set(Xcols)-set([\"Patient_ID\", \"Family_Case_ID\"])))"
   ]
  },
  {
   "cell_type": "code",
   "execution_count": 13,
   "metadata": {},
   "outputs": [],
   "source": [
    "# nan imputing\n",
    "\n",
    "if nan_bfill == True:\n",
    "    X = X.fillna(method=\"bfill\")\n",
    "else:\n",
    "    X = X.fillna(X.median())"
   ]
  },
  {
   "cell_type": "markdown",
   "metadata": {},
   "source": [
    "#### Model Train"
   ]
  },
  {
   "cell_type": "code",
   "execution_count": 14,
   "metadata": {
    "scrolled": true
   },
   "outputs": [
    {
     "name": "stdout",
     "output_type": "stream",
     "text": [
      "Wall time: 6.47 s\n"
     ]
    }
   ],
   "source": [
    "%%time\n",
    "\n",
    "if gridsearch:\n",
    "    rfc = RandomForestClassifier(n_estimators = 200,\n",
    "                                 class_weight = \"balanced\",\n",
    "                                 n_jobs = -1,\n",
    "                                 random_state=seed)\n",
    "    parameters = {\n",
    "        'max_depth': range(2, 8),\n",
    "        'min_samples_leaf': range(1, 3),\n",
    "        'min_samples_split': range(2, 3)\n",
    "    }\n",
    "    sss = StratifiedShuffleSplit(n_splits=nfolds, test_size=0.25, random_state=seed)\n",
    "    grid_obj = GridSearchCV(rfc,\n",
    "                            parameters,\n",
    "                            scoring=make_scorer(accuracy_score),\n",
    "                            cv=sss,\n",
    "                            verbose=0,\n",
    "                            n_jobs=-1,\n",
    "                            return_train_score=True)\n",
    "    grid_obj.fit(X, y)\n",
    "    rfc = grid_obj.best_estimator_\n",
    "else:\n",
    "    rfc = RandomForestClassifier(bootstrap=True, ccp_alpha=0.0, class_weight='balanced',\n",
    "                                 criterion='gini', max_depth=7, max_features='auto',\n",
    "                                 max_leaf_nodes=None, max_samples=None,\n",
    "                                 min_impurity_decrease=0.0, min_impurity_split=None,\n",
    "                                 min_samples_leaf=1, min_samples_split=2,\n",
    "                                 min_weight_fraction_leaf=0.0, n_estimators=5000,\n",
    "                                 n_jobs=-1, oob_score=False, random_state=seed, verbose=0,\n",
    "                                 warm_start=False)\n",
    "    rfc.fit(X, y)"
   ]
  },
  {
   "cell_type": "markdown",
   "metadata": {},
   "source": [
    "#### Model Evaluation"
   ]
  },
  {
   "cell_type": "code",
   "execution_count": 15,
   "metadata": {
    "scrolled": false
   },
   "outputs": [
    {
     "data": {
      "application/vnd.jupyter.widget-view+json": {
       "model_id": "e0aeafb831c248a4bcff79a483c90a26",
       "version_major": 2,
       "version_minor": 0
      },
      "text/plain": [
       "HBox(children=(FloatProgress(value=0.0, description='fold', max=200.0, style=ProgressStyle(description_width='…"
      ]
     },
     "metadata": {},
     "output_type": "display_data"
    },
    {
     "name": "stdout",
     "output_type": "stream",
     "text": [
      "\n",
      "0.8145333333333326\n"
     ]
    }
   ],
   "source": [
    "def run_kfold(clf, random_state=2020, nfolds=100):      \n",
    "    sss = StratifiedShuffleSplit(n_splits=nfolds, test_size=0.25, random_state=random_state)\n",
    "    mean_outcome = 0\n",
    "\n",
    "    for train_indices, test_indices in tqdm(sss.split(X, y), total=sss.get_n_splits(), desc=\"fold\"):\n",
    "        X_train, X_test = X.values[train_indices], X.values[test_indices]\n",
    "        y_train, y_test = y.values[train_indices], y.values[test_indices]\n",
    "        clf.fit(X_train, y_train)\n",
    "        predictions = clf.predict(X_test)\n",
    "        acc = accuracy_score(y_test, predictions)\n",
    "        mean_outcome += (acc/sss.get_n_splits())\n",
    "    return mean_outcome\n",
    "\n",
    "mean_accuracy = run_kfold(rfc, random_state=seed, nfolds=200)\n",
    "print(mean_accuracy)"
   ]
  },
  {
   "cell_type": "code",
   "execution_count": 16,
   "metadata": {},
   "outputs": [
    {
     "data": {
      "text/plain": [
       "RandomForestClassifier(bootstrap=True, ccp_alpha=0.0, class_weight='balanced',\n",
       "                       criterion='gini', max_depth=7, max_features='auto',\n",
       "                       max_leaf_nodes=None, max_samples=None,\n",
       "                       min_impurity_decrease=0.0, min_impurity_split=None,\n",
       "                       min_samples_leaf=1, min_samples_split=2,\n",
       "                       min_weight_fraction_leaf=0.0, n_estimators=5000,\n",
       "                       n_jobs=-1, oob_score=False, random_state=2020, verbose=0,\n",
       "                       warm_start=False)"
      ]
     },
     "execution_count": 16,
     "metadata": {},
     "output_type": "execute_result"
    }
   ],
   "source": [
    "rfc.fit(X, y)"
   ]
  },
  {
   "cell_type": "code",
   "execution_count": 17,
   "metadata": {},
   "outputs": [
    {
     "data": {
      "text/html": [
       "<div>\n",
       "<style scoped>\n",
       "    .dataframe tbody tr th:only-of-type {\n",
       "        vertical-align: middle;\n",
       "    }\n",
       "\n",
       "    .dataframe tbody tr th {\n",
       "        vertical-align: top;\n",
       "    }\n",
       "\n",
       "    .dataframe thead th {\n",
       "        text-align: right;\n",
       "    }\n",
       "</style>\n",
       "<table border=\"1\" class=\"dataframe\">\n",
       "  <thead>\n",
       "    <tr style=\"text-align: right;\">\n",
       "      <th></th>\n",
       "      <th>feature_importance</th>\n",
       "    </tr>\n",
       "    <tr>\n",
       "      <th>column</th>\n",
       "      <th></th>\n",
       "    </tr>\n",
       "  </thead>\n",
       "  <tbody>\n",
       "    <tr>\n",
       "      <th>Title_Ms.</th>\n",
       "      <td>0.149674</td>\n",
       "    </tr>\n",
       "    <tr>\n",
       "      <th>Title_Mr.</th>\n",
       "      <td>0.134781</td>\n",
       "    </tr>\n",
       "    <tr>\n",
       "      <th>Medical_Expenses_Family</th>\n",
       "      <td>0.128899</td>\n",
       "    </tr>\n",
       "    <tr>\n",
       "      <th>Birthday_year</th>\n",
       "      <td>0.095840</td>\n",
       "    </tr>\n",
       "    <tr>\n",
       "      <th>Family_Case_ID</th>\n",
       "      <td>0.078838</td>\n",
       "    </tr>\n",
       "    <tr>\n",
       "      <th>Severity_3</th>\n",
       "      <td>0.070604</td>\n",
       "    </tr>\n",
       "    <tr>\n",
       "      <th>Title_Miss</th>\n",
       "      <td>0.063512</td>\n",
       "    </tr>\n",
       "    <tr>\n",
       "      <th>Title_Master</th>\n",
       "      <td>0.048368</td>\n",
       "    </tr>\n",
       "    <tr>\n",
       "      <th>In_Tent</th>\n",
       "      <td>0.040534</td>\n",
       "    </tr>\n",
       "    <tr>\n",
       "      <th>Wife/Husband or children infected</th>\n",
       "      <td>0.039168</td>\n",
       "    </tr>\n",
       "    <tr>\n",
       "      <th>Severity_1</th>\n",
       "      <td>0.031939</td>\n",
       "    </tr>\n",
       "    <tr>\n",
       "      <th>Parents or siblings infected</th>\n",
       "      <td>0.029916</td>\n",
       "    </tr>\n",
       "    <tr>\n",
       "      <th>Severity_2</th>\n",
       "      <td>0.020616</td>\n",
       "    </tr>\n",
       "    <tr>\n",
       "      <th>City_Santa Fe</th>\n",
       "      <td>0.016998</td>\n",
       "    </tr>\n",
       "    <tr>\n",
       "      <th>City_Albuquerque</th>\n",
       "      <td>0.012146</td>\n",
       "    </tr>\n",
       "    <tr>\n",
       "      <th>City_Taos</th>\n",
       "      <td>0.008896</td>\n",
       "    </tr>\n",
       "    <tr>\n",
       "      <th>Medical_Tent_E</th>\n",
       "      <td>0.007551</td>\n",
       "    </tr>\n",
       "    <tr>\n",
       "      <th>Medical_Tent_C</th>\n",
       "      <td>0.005571</td>\n",
       "    </tr>\n",
       "    <tr>\n",
       "      <th>Medical_Tent_B</th>\n",
       "      <td>0.004809</td>\n",
       "    </tr>\n",
       "    <tr>\n",
       "      <th>Medical_Tent_D</th>\n",
       "      <td>0.004189</td>\n",
       "    </tr>\n",
       "    <tr>\n",
       "      <th>Medical_Tent_A</th>\n",
       "      <td>0.003980</td>\n",
       "    </tr>\n",
       "    <tr>\n",
       "      <th>Medical_Tent_F</th>\n",
       "      <td>0.001686</td>\n",
       "    </tr>\n",
       "    <tr>\n",
       "      <th>Medical_Tent_G</th>\n",
       "      <td>0.001188</td>\n",
       "    </tr>\n",
       "    <tr>\n",
       "      <th>Medical_Tent_T</th>\n",
       "      <td>0.000297</td>\n",
       "    </tr>\n",
       "    <tr>\n",
       "      <th>Title_Mrs.</th>\n",
       "      <td>0.000000</td>\n",
       "    </tr>\n",
       "  </tbody>\n",
       "</table>\n",
       "</div>"
      ],
      "text/plain": [
       "                                   feature_importance\n",
       "column                                               \n",
       "Title_Ms.                                    0.149674\n",
       "Title_Mr.                                    0.134781\n",
       "Medical_Expenses_Family                      0.128899\n",
       "Birthday_year                                0.095840\n",
       "Family_Case_ID                               0.078838\n",
       "Severity_3                                   0.070604\n",
       "Title_Miss                                   0.063512\n",
       "Title_Master                                 0.048368\n",
       "In_Tent                                      0.040534\n",
       "Wife/Husband or children infected            0.039168\n",
       "Severity_1                                   0.031939\n",
       "Parents or siblings infected                 0.029916\n",
       "Severity_2                                   0.020616\n",
       "City_Santa Fe                                0.016998\n",
       "City_Albuquerque                             0.012146\n",
       "City_Taos                                    0.008896\n",
       "Medical_Tent_E                               0.007551\n",
       "Medical_Tent_C                               0.005571\n",
       "Medical_Tent_B                               0.004809\n",
       "Medical_Tent_D                               0.004189\n",
       "Medical_Tent_A                               0.003980\n",
       "Medical_Tent_F                               0.001686\n",
       "Medical_Tent_G                               0.001188\n",
       "Medical_Tent_T                               0.000297\n",
       "Title_Mrs.                                   0.000000"
      ]
     },
     "execution_count": 17,
     "metadata": {},
     "output_type": "execute_result"
    }
   ],
   "source": [
    "feat_importances = pd.DataFrame(\n",
    "    zip(X.columns, rfc.feature_importances_),\n",
    "    columns=[\"column\", \"feature_importance\"]\n",
    ").set_index(\"column\").sort_values(by=\"feature_importance\", ascending=False)\n",
    "\n",
    "feat_importances"
   ]
  },
  {
   "cell_type": "markdown",
   "metadata": {},
   "source": [
    "#### Model Predict"
   ]
  },
  {
   "cell_type": "code",
   "execution_count": 18,
   "metadata": {},
   "outputs": [],
   "source": [
    "# nan imputing\n",
    "if nan_bfill == True:\n",
    "    preds = rfc.predict(test.drop(id_col, axis=1).fillna(method=\"bfill\")).astype(np.int8)\n",
    "else:\n",
    "    preds = rfc.predict(test.fillna(test.median()).drop(id_col, axis=1)).astype(np.int8)"
   ]
  },
  {
   "cell_type": "code",
   "execution_count": 34,
   "metadata": {},
   "outputs": [],
   "source": [
    "def find_version():\n",
    "    \"\"\"\n",
    "    Finds automatically the version of the submission. :)\n",
    "    \"\"\"\n",
    "    version = 1\n",
    "    if len(os.listdir(output_folder))==0:\n",
    "        return version\n",
    "    else:\n",
    "        for file in os.listdir(output_folder):\n",
    "            if file.split(\"-\")[0].startswith(\"version\"):\n",
    "                if int(file.split(\"-\")[0].split(\"n\")[1].split(\"-\")[0]) > version:\n",
    "                    version = int(file.split(\"-\")[0].split(\"n\")[1].split(\"-\")[0])\n",
    "        return version + 1"
   ]
  },
  {
   "cell_type": "code",
   "execution_count": 33,
   "metadata": {
    "scrolled": true
   },
   "outputs": [
    {
     "name": "stdout",
     "output_type": "stream",
     "text": [
      "Written predictions to 'file ./output/version6-20200510_211230-0.8145.csv'...\n"
     ]
    },
    {
     "data": {
      "text/html": [
       "<div>\n",
       "<style scoped>\n",
       "    .dataframe tbody tr th:only-of-type {\n",
       "        vertical-align: middle;\n",
       "    }\n",
       "\n",
       "    .dataframe tbody tr th {\n",
       "        vertical-align: top;\n",
       "    }\n",
       "\n",
       "    .dataframe thead th {\n",
       "        text-align: right;\n",
       "    }\n",
       "</style>\n",
       "<table border=\"1\" class=\"dataframe\">\n",
       "  <thead>\n",
       "    <tr style=\"text-align: right;\">\n",
       "      <th></th>\n",
       "      <th>Patient_ID</th>\n",
       "      <th>Deceased</th>\n",
       "    </tr>\n",
       "  </thead>\n",
       "  <tbody>\n",
       "    <tr>\n",
       "      <th>0</th>\n",
       "      <td>901</td>\n",
       "      <td>1</td>\n",
       "    </tr>\n",
       "    <tr>\n",
       "      <th>1</th>\n",
       "      <td>902</td>\n",
       "      <td>1</td>\n",
       "    </tr>\n",
       "    <tr>\n",
       "      <th>2</th>\n",
       "      <td>903</td>\n",
       "      <td>1</td>\n",
       "    </tr>\n",
       "    <tr>\n",
       "      <th>3</th>\n",
       "      <td>904</td>\n",
       "      <td>1</td>\n",
       "    </tr>\n",
       "    <tr>\n",
       "      <th>4</th>\n",
       "      <td>905</td>\n",
       "      <td>1</td>\n",
       "    </tr>\n",
       "  </tbody>\n",
       "</table>\n",
       "</div>"
      ],
      "text/plain": [
       "   Patient_ID  Deceased\n",
       "0         901         1\n",
       "1         902         1\n",
       "2         903         1\n",
       "3         904         1\n",
       "4         905         1"
      ]
     },
     "execution_count": 33,
     "metadata": {},
     "output_type": "execute_result"
    }
   ],
   "source": [
    "predictions = pd.DataFrame({id_col: test_ids, target: preds})\n",
    "version = find_version()\n",
    "now = datetime.today().strftime(\"%Y%m%d_%H%M%S\")\n",
    "filename = f\"version{version}-{now}-{round(mean_accuracy, 4)}.csv\"\n",
    "predictions.to_csv(f'{output_folder}/{filename}', index = False)\n",
    "print(f\"Written predictions to 'file {output_folder}/{filename}'...\")\n",
    "predictions.head()"
   ]
  },
  {
   "cell_type": "code",
   "execution_count": 36,
   "metadata": {
    "scrolled": true
   },
   "outputs": [
    {
     "data": {
      "text/plain": [
       "1    279\n",
       "0    121\n",
       "Name: Deceased, dtype: int64"
      ]
     },
     "execution_count": 36,
     "metadata": {},
     "output_type": "execute_result"
    }
   ],
   "source": [
    "predictions[\"Deceased\"].value_counts()"
   ]
  },
  {
   "cell_type": "code",
   "execution_count": 37,
   "metadata": {},
   "outputs": [
    {
     "data": {
      "text/plain": [
       "147"
      ]
     },
     "execution_count": 37,
     "metadata": {},
     "output_type": "execute_result"
    }
   ],
   "source": [
    "sum = 0\n",
    "for row, index in enumerate(test.index):\n",
    "    if test.loc[index,\"Family_Case_ID\"] in train[\"Family_Case_ID\"].unique():\n",
    "        sum +=1\n",
    "        \n",
    "sum"
   ]
  },
  {
   "cell_type": "code",
   "execution_count": 38,
   "metadata": {},
   "outputs": [
    {
     "name": "stdout",
     "output_type": "stream",
     "text": [
      "2020-05-10 21:12:53.174540\n"
     ]
    }
   ],
   "source": [
    "print(datetime.now())"
   ]
  }
 ],
 "metadata": {
  "kernelspec": {
   "display_name": "Python (machine_learning)",
   "language": "python",
   "name": "machine_learning"
  },
  "language_info": {
   "codemirror_mode": {
    "name": "ipython",
    "version": 3
   },
   "file_extension": ".py",
   "mimetype": "text/x-python",
   "name": "python",
   "nbconvert_exporter": "python",
   "pygments_lexer": "ipython3",
   "version": "3.8.2"
  }
 },
 "nbformat": 4,
 "nbformat_minor": 2
}
